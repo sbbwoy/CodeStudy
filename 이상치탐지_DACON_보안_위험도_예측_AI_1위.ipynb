{
  "cells": [
    {
      "cell_type": "markdown",
      "metadata": {
        "id": "view-in-github",
        "colab_type": "text"
      },
      "source": [
        "<a href=\"https://colab.research.google.com/github/sbbwoy/CodeStudy/blob/main/%EC%9D%B4%EC%83%81%EC%B9%98%ED%83%90%EC%A7%80_DACON_%EB%B3%B4%EC%95%88_%EC%9C%84%ED%97%98%EB%8F%84_%EC%98%88%EC%B8%A1_AI_1%EC%9C%84.ipynb\" target=\"_parent\"><img src=\"https://colab.research.google.com/assets/colab-badge.svg\" alt=\"Open In Colab\"/></a>"
      ]
    },
    {
      "cell_type": "markdown",
      "source": [
        "https://dacon.io/competitions/official/235717/codeshare/2679?page=1&dtype=vote "
      ],
      "metadata": {
        "id": "6oRe4zlOpbLt"
      }
    },
    {
      "cell_type": "markdown",
      "metadata": {
        "id": "sqS3xOCdDbEY"
      },
      "source": [
        "# 접근 방식"
      ]
    },
    {
      "cell_type": "markdown",
      "metadata": {
        "id": "BHD1EkvvDbEc"
      },
      "source": [
        "Baseline의 Randomforest 지도학습 결과를 보았을 때 0.997 정도의 매우 높은 성능을 보여 Level7만 잘 구별한다면 좋은 성능을 얻을 수 있을 것이라고 생각했습니다.\n",
        "\n",
        "7을 구별하기 위해서 비지도 학습으로 접근을 시도했고 오토인코더, one-class-svm, isolated-randomforest 등의 비지도 학습 방법을 적용해 보았으나 기존과 단어 몇개만 다른 경우들이 7 특성 떄문인지 성능이 좋지 않았습니다. 그 중에서 오토인코더가 성능이 괜찮았는데 \"렛서펜더\"님이 오토인코더 관련 코드를 올려주셨습니다. \n",
        "https://dacon.io/competitions/official/235717/codeshare/2677?page=1&dtype=recent\n",
        "\n",
        "\n",
        "결론적으로 로그 데이터의 전처리를 진행하고 Baseline에서 Validation을 통해 등급별로 threshold를 상세 설정한 점수가 가장 높게 나왔습니다.Threshold 를 잡아서 7을 잡았지만, Train 문장과 완전히 동일한 문장이 존재하는지 여부를 체크해주는 컬럼을 통해 문장 전체가 완전히 동일한 경우에는 Threshold 에 걸리지 않도록 했습니다. \n",
        "\n",
        "마지막으로 점수를 조금 향상하기 위해서 7 등급 이외의 등급은 전처리가 덜 진행된 데이터를 활용하여 베이스라인 지도학습을 다시 진행했습니다. (지나친 전처리는 0~6등급 지도 학습 분류에 악영향이라고 판단) \n",
        "\n",
        "\n",
        "실제 서비스에서 Line by Line으로 들어왔을 때의 분류방법:\n",
        "1. 로그 문장 데이터 전처리 진행 (Cleaning)\n",
        "2. train 데이터와 완전히 동일한 문장이 있는지 확인하여 서로 다른 모델 적용(A방법, B방법)\n",
        "3. 동일한 문장이 있다면 0~6 등급 지도 학습된 모델로 Predict(Threshold 적용 X) (A방법)\n",
        "4. 동일한 문장이 없다면 0~6 등급 지도 학습된 모델로 Predict 이후에 설정된 Threshold 를 통해 7은 따로 분류 (B방법)\n",
        "5. 4번에서 Threshold를 통해 걸러지지 않는다면 3번과 동일한 모델로 predict 적용 (A방법)\n",
        "\n",
        "\n",
        "[참고]  \n",
        "https://dacon.io/competitions/official/235717/codeshare/2536?page=1&dtype=recent (대회 베이스라인)  \n",
        "https://dacon.io/competitions/official/235717/codeshare/2539?page=1&dtype=recent (10duck 님의 데이터 전처리 및 EDA)  \n",
        "https://dacon.io/competitions/official/235717/support/403102?page=1&dtype=recent (taegu 님의 threshold 조정 문의 글)"
      ]
    },
    {
      "cell_type": "markdown",
      "metadata": {
        "id": "smFQ9EJdDbEe"
      },
      "source": [
        "# Data & Libaray IMPORT"
      ]
    },
    {
      "cell_type": "code",
      "source": [
        "!pip install dask[dataframe] --upgrade"
      ],
      "metadata": {
        "colab": {
          "base_uri": "https://localhost:8080/"
        },
        "id": "D_jkHYKgI4Pe",
        "outputId": "eaa17ef1-e535-4a72-b87b-59d6f737b944"
      },
      "execution_count": 2,
      "outputs": [
        {
          "output_type": "stream",
          "name": "stdout",
          "text": [
            "Looking in indexes: https://pypi.org/simple, https://us-python.pkg.dev/colab-wheels/public/simple/\n",
            "Requirement already satisfied: dask[dataframe] in /usr/local/lib/python3.7/dist-packages (2.12.0)\n",
            "Collecting partd>=0.3.10\n",
            "  Downloading partd-1.2.0-py3-none-any.whl (19 kB)\n",
            "Requirement already satisfied: toolz>=0.7.3 in /usr/local/lib/python3.7/dist-packages (from dask[dataframe]) (0.12.0)\n",
            "Requirement already satisfied: pandas>=0.23.0 in /usr/local/lib/python3.7/dist-packages (from dask[dataframe]) (1.3.5)\n",
            "Requirement already satisfied: numpy>=1.13.0 in /usr/local/lib/python3.7/dist-packages (from dask[dataframe]) (1.21.6)\n",
            "Collecting fsspec>=0.6.0\n",
            "  Downloading fsspec-2022.7.1-py3-none-any.whl (141 kB)\n",
            "\u001b[K     |████████████████████████████████| 141 kB 4.6 MB/s \n",
            "\u001b[?25hRequirement already satisfied: pytz>=2017.3 in /usr/local/lib/python3.7/dist-packages (from pandas>=0.23.0->dask[dataframe]) (2022.1)\n",
            "Requirement already satisfied: python-dateutil>=2.7.3 in /usr/local/lib/python3.7/dist-packages (from pandas>=0.23.0->dask[dataframe]) (2.8.2)\n",
            "Collecting locket\n",
            "  Downloading locket-1.0.0-py2.py3-none-any.whl (4.4 kB)\n",
            "Requirement already satisfied: six>=1.5 in /usr/local/lib/python3.7/dist-packages (from python-dateutil>=2.7.3->pandas>=0.23.0->dask[dataframe]) (1.15.0)\n",
            "Installing collected packages: locket, partd, fsspec\n",
            "Successfully installed fsspec-2022.7.1 locket-1.0.0 partd-1.2.0\n"
          ]
        }
      ]
    },
    {
      "cell_type": "code",
      "execution_count": 3,
      "metadata": {
        "id": "7E-6SN6TDbEe"
      },
      "outputs": [],
      "source": [
        "import pandas as pd\n",
        "import numpy as np\n",
        "import os \n",
        "import pandas as pds\n",
        "from dask import dataframe\n",
        "import re\n",
        "import numpy as np\n",
        "import seaborn as sbn\n",
        "from matplotlib import pyplot as plt\n",
        "from sklearn.feature_extraction.text import CountVectorizer\n",
        "from nltk.corpus import wordnet"
      ]
    },
    {
      "cell_type": "code",
      "source": [
        "from google.colab import drive\n",
        "drive.mount('/content/drive')"
      ],
      "metadata": {
        "colab": {
          "base_uri": "https://localhost:8080/"
        },
        "id": "A-YY6k07JrhM",
        "outputId": "d6219b51-8f09-4cbf-d158-43479ba21307"
      },
      "execution_count": 4,
      "outputs": [
        {
          "output_type": "stream",
          "name": "stdout",
          "text": [
            "Mounted at /content/drive\n"
          ]
        }
      ]
    },
    {
      "cell_type": "code",
      "source": [
        "path = '/content/drive/MyDrive/22-여름 스터디/로그 분석을 통한 보안 위험도 예측 AI 경진대회_data/'"
      ],
      "metadata": {
        "id": "2UKLafMTJ94U"
      },
      "execution_count": 5,
      "outputs": []
    },
    {
      "cell_type": "code",
      "execution_count": 6,
      "metadata": {
        "id": "yoqi4dw3DbEf"
      },
      "outputs": [],
      "source": [
        "train = pd.read_csv(path+\"train.csv\")\n",
        "test= pd.read_csv(path+\"test.csv\")"
      ]
    },
    {
      "cell_type": "code",
      "source": [
        "train.head()"
      ],
      "metadata": {
        "colab": {
          "base_uri": "https://localhost:8080/",
          "height": 206
        },
        "id": "NMy6NZkUKZvY",
        "outputId": "626405ef-a4af-4cdd-82cf-26b3b1907996"
      },
      "execution_count": 7,
      "outputs": [
        {
          "output_type": "execute_result",
          "data": {
            "text/plain": [
              "   id  level                                           full_log\n",
              "0   0      0  Sep 24 10:02:22 localhost kibana: {\"type\":\"err...\n",
              "1   1      0  Feb  8 16:21:00 localhost logstash: [2021-02-0...\n",
              "2   2      0  Jan 13 01:50:40 localhost kibana: {\"type\":\"err...\n",
              "3   3      0  Jan  4 10:18:31 localhost kibana: {\"type\":\"err...\n",
              "4   4      1  type=SYSCALL msg=audit(1603094402.016:52981): ..."
            ],
            "text/html": [
              "\n",
              "  <div id=\"df-fc7d5863-76af-4ed8-bedd-3b7615bddbe2\">\n",
              "    <div class=\"colab-df-container\">\n",
              "      <div>\n",
              "<style scoped>\n",
              "    .dataframe tbody tr th:only-of-type {\n",
              "        vertical-align: middle;\n",
              "    }\n",
              "\n",
              "    .dataframe tbody tr th {\n",
              "        vertical-align: top;\n",
              "    }\n",
              "\n",
              "    .dataframe thead th {\n",
              "        text-align: right;\n",
              "    }\n",
              "</style>\n",
              "<table border=\"1\" class=\"dataframe\">\n",
              "  <thead>\n",
              "    <tr style=\"text-align: right;\">\n",
              "      <th></th>\n",
              "      <th>id</th>\n",
              "      <th>level</th>\n",
              "      <th>full_log</th>\n",
              "    </tr>\n",
              "  </thead>\n",
              "  <tbody>\n",
              "    <tr>\n",
              "      <th>0</th>\n",
              "      <td>0</td>\n",
              "      <td>0</td>\n",
              "      <td>Sep 24 10:02:22 localhost kibana: {\"type\":\"err...</td>\n",
              "    </tr>\n",
              "    <tr>\n",
              "      <th>1</th>\n",
              "      <td>1</td>\n",
              "      <td>0</td>\n",
              "      <td>Feb  8 16:21:00 localhost logstash: [2021-02-0...</td>\n",
              "    </tr>\n",
              "    <tr>\n",
              "      <th>2</th>\n",
              "      <td>2</td>\n",
              "      <td>0</td>\n",
              "      <td>Jan 13 01:50:40 localhost kibana: {\"type\":\"err...</td>\n",
              "    </tr>\n",
              "    <tr>\n",
              "      <th>3</th>\n",
              "      <td>3</td>\n",
              "      <td>0</td>\n",
              "      <td>Jan  4 10:18:31 localhost kibana: {\"type\":\"err...</td>\n",
              "    </tr>\n",
              "    <tr>\n",
              "      <th>4</th>\n",
              "      <td>4</td>\n",
              "      <td>1</td>\n",
              "      <td>type=SYSCALL msg=audit(1603094402.016:52981): ...</td>\n",
              "    </tr>\n",
              "  </tbody>\n",
              "</table>\n",
              "</div>\n",
              "      <button class=\"colab-df-convert\" onclick=\"convertToInteractive('df-fc7d5863-76af-4ed8-bedd-3b7615bddbe2')\"\n",
              "              title=\"Convert this dataframe to an interactive table.\"\n",
              "              style=\"display:none;\">\n",
              "        \n",
              "  <svg xmlns=\"http://www.w3.org/2000/svg\" height=\"24px\"viewBox=\"0 0 24 24\"\n",
              "       width=\"24px\">\n",
              "    <path d=\"M0 0h24v24H0V0z\" fill=\"none\"/>\n",
              "    <path d=\"M18.56 5.44l.94 2.06.94-2.06 2.06-.94-2.06-.94-.94-2.06-.94 2.06-2.06.94zm-11 1L8.5 8.5l.94-2.06 2.06-.94-2.06-.94L8.5 2.5l-.94 2.06-2.06.94zm10 10l.94 2.06.94-2.06 2.06-.94-2.06-.94-.94-2.06-.94 2.06-2.06.94z\"/><path d=\"M17.41 7.96l-1.37-1.37c-.4-.4-.92-.59-1.43-.59-.52 0-1.04.2-1.43.59L10.3 9.45l-7.72 7.72c-.78.78-.78 2.05 0 2.83L4 21.41c.39.39.9.59 1.41.59.51 0 1.02-.2 1.41-.59l7.78-7.78 2.81-2.81c.8-.78.8-2.07 0-2.86zM5.41 20L4 18.59l7.72-7.72 1.47 1.35L5.41 20z\"/>\n",
              "  </svg>\n",
              "      </button>\n",
              "      \n",
              "  <style>\n",
              "    .colab-df-container {\n",
              "      display:flex;\n",
              "      flex-wrap:wrap;\n",
              "      gap: 12px;\n",
              "    }\n",
              "\n",
              "    .colab-df-convert {\n",
              "      background-color: #E8F0FE;\n",
              "      border: none;\n",
              "      border-radius: 50%;\n",
              "      cursor: pointer;\n",
              "      display: none;\n",
              "      fill: #1967D2;\n",
              "      height: 32px;\n",
              "      padding: 0 0 0 0;\n",
              "      width: 32px;\n",
              "    }\n",
              "\n",
              "    .colab-df-convert:hover {\n",
              "      background-color: #E2EBFA;\n",
              "      box-shadow: 0px 1px 2px rgba(60, 64, 67, 0.3), 0px 1px 3px 1px rgba(60, 64, 67, 0.15);\n",
              "      fill: #174EA6;\n",
              "    }\n",
              "\n",
              "    [theme=dark] .colab-df-convert {\n",
              "      background-color: #3B4455;\n",
              "      fill: #D2E3FC;\n",
              "    }\n",
              "\n",
              "    [theme=dark] .colab-df-convert:hover {\n",
              "      background-color: #434B5C;\n",
              "      box-shadow: 0px 1px 3px 1px rgba(0, 0, 0, 0.15);\n",
              "      filter: drop-shadow(0px 1px 2px rgba(0, 0, 0, 0.3));\n",
              "      fill: #FFFFFF;\n",
              "    }\n",
              "  </style>\n",
              "\n",
              "      <script>\n",
              "        const buttonEl =\n",
              "          document.querySelector('#df-fc7d5863-76af-4ed8-bedd-3b7615bddbe2 button.colab-df-convert');\n",
              "        buttonEl.style.display =\n",
              "          google.colab.kernel.accessAllowed ? 'block' : 'none';\n",
              "\n",
              "        async function convertToInteractive(key) {\n",
              "          const element = document.querySelector('#df-fc7d5863-76af-4ed8-bedd-3b7615bddbe2');\n",
              "          const dataTable =\n",
              "            await google.colab.kernel.invokeFunction('convertToInteractive',\n",
              "                                                     [key], {});\n",
              "          if (!dataTable) return;\n",
              "\n",
              "          const docLinkHtml = 'Like what you see? Visit the ' +\n",
              "            '<a target=\"_blank\" href=https://colab.research.google.com/notebooks/data_table.ipynb>data table notebook</a>'\n",
              "            + ' to learn more about interactive tables.';\n",
              "          element.innerHTML = '';\n",
              "          dataTable['output_type'] = 'display_data';\n",
              "          await google.colab.output.renderOutput(dataTable, element);\n",
              "          const docLink = document.createElement('div');\n",
              "          docLink.innerHTML = docLinkHtml;\n",
              "          element.appendChild(docLink);\n",
              "        }\n",
              "      </script>\n",
              "    </div>\n",
              "  </div>\n",
              "  "
            ]
          },
          "metadata": {},
          "execution_count": 7
        }
      ]
    },
    {
      "cell_type": "code",
      "source": [
        "test.head()"
      ],
      "metadata": {
        "colab": {
          "base_uri": "https://localhost:8080/",
          "height": 206
        },
        "id": "-aJwdgFcfAfG",
        "outputId": "a85a70bd-6417-4440-ddef-f97138ed7dd1"
      },
      "execution_count": 8,
      "outputs": [
        {
          "output_type": "execute_result",
          "data": {
            "text/plain": [
              "        id                                           full_log\n",
              "0  1000000  Feb  8 15:47:26 localhost kibana: {\"type\":\"err...\n",
              "1  1000001  Sep 24 03:46:39 localhost kibana: {\"type\":\"err...\n",
              "2  1000002  type=SYSCALL msg=audit(1611888200.428:210563):...\n",
              "3  1000003  Jan 18 11:24:06 localhost kibana: {\"type\":\"err...\n",
              "4  1000004  type=SYSCALL msg=audit(1603081202.050:46851): ..."
            ],
            "text/html": [
              "\n",
              "  <div id=\"df-79c493d1-3a38-4e3f-840e-2698ed85fd99\">\n",
              "    <div class=\"colab-df-container\">\n",
              "      <div>\n",
              "<style scoped>\n",
              "    .dataframe tbody tr th:only-of-type {\n",
              "        vertical-align: middle;\n",
              "    }\n",
              "\n",
              "    .dataframe tbody tr th {\n",
              "        vertical-align: top;\n",
              "    }\n",
              "\n",
              "    .dataframe thead th {\n",
              "        text-align: right;\n",
              "    }\n",
              "</style>\n",
              "<table border=\"1\" class=\"dataframe\">\n",
              "  <thead>\n",
              "    <tr style=\"text-align: right;\">\n",
              "      <th></th>\n",
              "      <th>id</th>\n",
              "      <th>full_log</th>\n",
              "    </tr>\n",
              "  </thead>\n",
              "  <tbody>\n",
              "    <tr>\n",
              "      <th>0</th>\n",
              "      <td>1000000</td>\n",
              "      <td>Feb  8 15:47:26 localhost kibana: {\"type\":\"err...</td>\n",
              "    </tr>\n",
              "    <tr>\n",
              "      <th>1</th>\n",
              "      <td>1000001</td>\n",
              "      <td>Sep 24 03:46:39 localhost kibana: {\"type\":\"err...</td>\n",
              "    </tr>\n",
              "    <tr>\n",
              "      <th>2</th>\n",
              "      <td>1000002</td>\n",
              "      <td>type=SYSCALL msg=audit(1611888200.428:210563):...</td>\n",
              "    </tr>\n",
              "    <tr>\n",
              "      <th>3</th>\n",
              "      <td>1000003</td>\n",
              "      <td>Jan 18 11:24:06 localhost kibana: {\"type\":\"err...</td>\n",
              "    </tr>\n",
              "    <tr>\n",
              "      <th>4</th>\n",
              "      <td>1000004</td>\n",
              "      <td>type=SYSCALL msg=audit(1603081202.050:46851): ...</td>\n",
              "    </tr>\n",
              "  </tbody>\n",
              "</table>\n",
              "</div>\n",
              "      <button class=\"colab-df-convert\" onclick=\"convertToInteractive('df-79c493d1-3a38-4e3f-840e-2698ed85fd99')\"\n",
              "              title=\"Convert this dataframe to an interactive table.\"\n",
              "              style=\"display:none;\">\n",
              "        \n",
              "  <svg xmlns=\"http://www.w3.org/2000/svg\" height=\"24px\"viewBox=\"0 0 24 24\"\n",
              "       width=\"24px\">\n",
              "    <path d=\"M0 0h24v24H0V0z\" fill=\"none\"/>\n",
              "    <path d=\"M18.56 5.44l.94 2.06.94-2.06 2.06-.94-2.06-.94-.94-2.06-.94 2.06-2.06.94zm-11 1L8.5 8.5l.94-2.06 2.06-.94-2.06-.94L8.5 2.5l-.94 2.06-2.06.94zm10 10l.94 2.06.94-2.06 2.06-.94-2.06-.94-.94-2.06-.94 2.06-2.06.94z\"/><path d=\"M17.41 7.96l-1.37-1.37c-.4-.4-.92-.59-1.43-.59-.52 0-1.04.2-1.43.59L10.3 9.45l-7.72 7.72c-.78.78-.78 2.05 0 2.83L4 21.41c.39.39.9.59 1.41.59.51 0 1.02-.2 1.41-.59l7.78-7.78 2.81-2.81c.8-.78.8-2.07 0-2.86zM5.41 20L4 18.59l7.72-7.72 1.47 1.35L5.41 20z\"/>\n",
              "  </svg>\n",
              "      </button>\n",
              "      \n",
              "  <style>\n",
              "    .colab-df-container {\n",
              "      display:flex;\n",
              "      flex-wrap:wrap;\n",
              "      gap: 12px;\n",
              "    }\n",
              "\n",
              "    .colab-df-convert {\n",
              "      background-color: #E8F0FE;\n",
              "      border: none;\n",
              "      border-radius: 50%;\n",
              "      cursor: pointer;\n",
              "      display: none;\n",
              "      fill: #1967D2;\n",
              "      height: 32px;\n",
              "      padding: 0 0 0 0;\n",
              "      width: 32px;\n",
              "    }\n",
              "\n",
              "    .colab-df-convert:hover {\n",
              "      background-color: #E2EBFA;\n",
              "      box-shadow: 0px 1px 2px rgba(60, 64, 67, 0.3), 0px 1px 3px 1px rgba(60, 64, 67, 0.15);\n",
              "      fill: #174EA6;\n",
              "    }\n",
              "\n",
              "    [theme=dark] .colab-df-convert {\n",
              "      background-color: #3B4455;\n",
              "      fill: #D2E3FC;\n",
              "    }\n",
              "\n",
              "    [theme=dark] .colab-df-convert:hover {\n",
              "      background-color: #434B5C;\n",
              "      box-shadow: 0px 1px 3px 1px rgba(0, 0, 0, 0.15);\n",
              "      filter: drop-shadow(0px 1px 2px rgba(0, 0, 0, 0.3));\n",
              "      fill: #FFFFFF;\n",
              "    }\n",
              "  </style>\n",
              "\n",
              "      <script>\n",
              "        const buttonEl =\n",
              "          document.querySelector('#df-79c493d1-3a38-4e3f-840e-2698ed85fd99 button.colab-df-convert');\n",
              "        buttonEl.style.display =\n",
              "          google.colab.kernel.accessAllowed ? 'block' : 'none';\n",
              "\n",
              "        async function convertToInteractive(key) {\n",
              "          const element = document.querySelector('#df-79c493d1-3a38-4e3f-840e-2698ed85fd99');\n",
              "          const dataTable =\n",
              "            await google.colab.kernel.invokeFunction('convertToInteractive',\n",
              "                                                     [key], {});\n",
              "          if (!dataTable) return;\n",
              "\n",
              "          const docLinkHtml = 'Like what you see? Visit the ' +\n",
              "            '<a target=\"_blank\" href=https://colab.research.google.com/notebooks/data_table.ipynb>data table notebook</a>'\n",
              "            + ' to learn more about interactive tables.';\n",
              "          element.innerHTML = '';\n",
              "          dataTable['output_type'] = 'display_data';\n",
              "          await google.colab.output.renderOutput(dataTable, element);\n",
              "          const docLink = document.createElement('div');\n",
              "          docLink.innerHTML = docLinkHtml;\n",
              "          element.appendChild(docLink);\n",
              "        }\n",
              "      </script>\n",
              "    </div>\n",
              "  </div>\n",
              "  "
            ]
          },
          "metadata": {},
          "execution_count": 8
        }
      ]
    },
    {
      "cell_type": "code",
      "source": [
        "train.iloc[:,-1][0]"
      ],
      "metadata": {
        "colab": {
          "base_uri": "https://localhost:8080/",
          "height": 91
        },
        "id": "R5YSjRE9Kceq",
        "outputId": "808e8144-92c5-402e-c011-2fbd81250c29"
      },
      "execution_count": 9,
      "outputs": [
        {
          "output_type": "execute_result",
          "data": {
            "text/plain": [
              "'Sep 24 10:02:22 localhost kibana: {\"type\":\"error\",\"@timestamp\":\"2020-09-24T01:02:22Z\",\"tags\":[\"warning\",\"stats-collection\"],\"pid\":6458,\"level\":\"error\",\"error\":{\"message\":\"No Living connections\",\"name\":\"Error\",\"stack\":\"Error: No Living connections\\\\n    at sendReqWithConnection (/usr/share/kibana/node_modules/elasticsearch/src/lib/transport.js:226:15)\\\\n    at next (/usr/share/kibana/node_modules/elasticsearch/src/lib/connection_pool.js:214:7)\\\\n    at process._tickCallback (internal/process/next_tick.js:61:11)\"},\"message\":\"No Living connections\"}'"
            ],
            "application/vnd.google.colaboratory.intrinsic+json": {
              "type": "string"
            }
          },
          "metadata": {},
          "execution_count": 9
        }
      ]
    },
    {
      "cell_type": "markdown",
      "source": [
        "- 딕셔너리 형태... 까다롭다"
      ],
      "metadata": {
        "id": "CV8lRDLsLVJt"
      }
    },
    {
      "cell_type": "code",
      "execution_count": 10,
      "metadata": {
        "colab": {
          "base_uri": "https://localhost:8080/"
        },
        "id": "l_E_P4krDbEg",
        "outputId": "03f1ea8c-d022-4d42-e08c-15406a6d45f4"
      },
      "outputs": [
        {
          "output_type": "execute_result",
          "data": {
            "text/plain": [
              "1418916"
            ]
          },
          "metadata": {},
          "execution_count": 10
        }
      ],
      "source": [
        "len(test)"
      ]
    },
    {
      "cell_type": "markdown",
      "metadata": {
        "id": "a3cuS2cTDbEh"
      },
      "source": [
        "# EDA\n",
        "### 1. 다양한 기호 및 숫자 제거\n",
        "의미 없는 숫자와 기호들이 많아서 분류를 방해한다고 판단"
      ]
    },
    {
      "cell_type": "code",
      "execution_count": 11,
      "metadata": {
        "id": "SHze_e_rDbEi"
      },
      "outputs": [],
      "source": [
        "lit = 'abcdefghijklmnopqrstuvwxyzABCDEFGHIJKLMNOPQRSTUVWXYZ'\n",
        "def mask(tt):\n",
        "    tt=tt.apply(lambda x: re.sub(r'(\\\\n)',' ',x))\n",
        "    tt=tt.apply(lambda x: re.sub(r'[^a-zA-Zㄱ-ㅣ가-힣0-9:=\\s\\(\\)./,\\<\\>]+',' ',x))\n",
        "    #tt=tt.apply(lambda x: re.sub(r' ?(?P<note>[:=\\(\\)./,\\<\\>]) ?', ' \\g<note> ', x))\n",
        "    tt=tt.apply(lambda x: re.sub(r'[0-9]+',' ',x))\n",
        "    tt=tt.apply(lambda x: re.sub(r\"':/()\",' ',x))\n",
        "    tt=tt.apply(lambda x: re.sub(r':',' ',x))\n",
        "    tt=tt.apply(lambda x: re.sub(r',',' ',x))\n",
        "    # = tt.apply(lambda x: re.sub(r'(',' ',x))\n",
        "    #t = tt.apply(lambda x: re.sub(r')',' ',x))\n",
        "    tt=tt.apply(lambda x: re.sub(r'[-=+,#/\\?:^$.@*\\\"※~&%ㆍ!』\\\\‘|\\(\\)\\[\\]\\<\\>`\\'…》]',' ',x))\n",
        "    for st in lit:\n",
        "        st = \" \"+st + \" \"\n",
        "        tt=tt.apply(lambda x: re.sub(st,' ',x))\n",
        "    tt=tt.apply(lambda x: re.sub(r'\\s+',' ',x))\n",
        "    \n",
        "    return tt"
      ]
    },
    {
      "cell_type": "markdown",
      "source": [
        "- 뭐하는 함수지...? "
      ],
      "metadata": {
        "id": "sn0bgzWiLQua"
      }
    },
    {
      "cell_type": "code",
      "execution_count": 12,
      "metadata": {
        "id": "nbTSMz3KDbEj"
      },
      "outputs": [],
      "source": [
        "train['pre_log'] = mask(train.full_log)\n",
        "test['pre_log'] = mask(test.full_log)"
      ]
    },
    {
      "cell_type": "code",
      "source": [
        "train['pre_log']"
      ],
      "metadata": {
        "colab": {
          "base_uri": "https://localhost:8080/"
        },
        "id": "s1w9iyo2LhDm",
        "outputId": "04230e5a-aeee-453c-fa7d-5d742f10d698"
      },
      "execution_count": 13,
      "outputs": [
        {
          "output_type": "execute_result",
          "data": {
            "text/plain": [
              "0         Sep localhost kibana type error timestamp tags...\n",
              "1         Feb localhost logstash INFO logstash outputs e...\n",
              "2         Jan localhost kibana type error timestamp tags...\n",
              "3         Jan localhost kibana type error timestamp tags...\n",
              "4         type SYSCALL msg audit arch syscall success ye...\n",
              "                                ...                        \n",
              "472967                        Feb localhost logstash error \n",
              "472968    type SYSCALL msg audit arch syscall success ye...\n",
              "472969    Oct localhost kibana type log timestamp tags e...\n",
              "472970    Jan localhost kibana type error timestamp tags...\n",
              "472971    Oct localhost kibana type error timestamp tags...\n",
              "Name: pre_log, Length: 472972, dtype: object"
            ]
          },
          "metadata": {},
          "execution_count": 13
        }
      ]
    },
    {
      "cell_type": "markdown",
      "source": [
        "- 특수문자 -> 띄어쓰기"
      ],
      "metadata": {
        "id": "hgIXiICJPFXL"
      }
    },
    {
      "cell_type": "markdown",
      "metadata": {
        "id": "pEB6iIm8DbEj"
      },
      "source": [
        "### 2. 영어 단어가 아니거나 3글자 미만인지인 경우에는 삭제\n",
        "Validation 7등급을 보았을 때, 단어들이 의미가 있는 영어 단어들이 새로 들어오는 경향이 있다고 판단했습니다."
      ]
    },
    {
      "cell_type": "code",
      "execution_count": 14,
      "metadata": {
        "id": "Y2-50fI9DbEk"
      },
      "outputs": [],
      "source": [
        "#포함되어 있는 단어 모음 생성\n",
        "def count_word(data):\n",
        "    tem = list(data['pre_log'].str.split(\" \"))  #공백으로 분리해서\n",
        "    all_word = []                               \n",
        "    for word in tem:\n",
        "        all_word.extend(word)                   #all_word에 넣네\n",
        "    words = pd.Series(all_word)\n",
        "    return words.value_counts()                 #단어 개수 반환"
      ]
    },
    {
      "cell_type": "code",
      "execution_count": 15,
      "metadata": {
        "id": "B6W5LCJ8DbEk"
      },
      "outputs": [],
      "source": [
        "train_count = count_word(train)\n",
        "test_count = count_word(test)"
      ]
    },
    {
      "cell_type": "code",
      "execution_count": 16,
      "metadata": {
        "id": "igc0zy8gDbEk"
      },
      "outputs": [],
      "source": [
        "train_words = list(set(train_count.index))\n",
        "test_words = list(set(test_count.index))"
      ]
    },
    {
      "cell_type": "markdown",
      "source": [
        "- 중복 단어 없앤 듯"
      ],
      "metadata": {
        "id": "EHN6rmHsgwVP"
      }
    },
    {
      "cell_type": "code",
      "execution_count": 17,
      "metadata": {
        "id": "zoQu9DaWDbEl"
      },
      "outputs": [],
      "source": [
        "#영어 단어 + 3글자 이상인 경우만 True\n",
        "from nltk.corpus import words\n",
        "def check_words(word_list: list):\n",
        "    re = [False] * len(word_list)   \n",
        "    for i,word in enumerate(word_list):\n",
        "        if len(word) < 3:\n",
        "            continue\n",
        "        word = word.lower()\n",
        "        if word in words.words():\n",
        "            re[i] = True\n",
        "    return re\n",
        "\n",
        "word_list = ['Promiscuous', 'ab', 'nihongo', 'abstract', 'pedo','gid']"
      ]
    },
    {
      "cell_type": "markdown",
      "source": [
        "- False가 1인 거 기억"
      ],
      "metadata": {
        "id": "jbxIdKKBgqmV"
      }
    },
    {
      "cell_type": "code",
      "source": [
        "import nltk\n",
        "nltk.download('words')"
      ],
      "metadata": {
        "colab": {
          "base_uri": "https://localhost:8080/"
        },
        "id": "sT0wYQYHmhf4",
        "outputId": "0ad64c2e-03d9-4110-c0f2-cf437030de8e"
      },
      "execution_count": 19,
      "outputs": [
        {
          "output_type": "stream",
          "name": "stderr",
          "text": [
            "[nltk_data] Downloading package words to /root/nltk_data...\n",
            "[nltk_data]   Unzipping corpora/words.zip.\n"
          ]
        },
        {
          "output_type": "execute_result",
          "data": {
            "text/plain": [
              "True"
            ]
          },
          "metadata": {},
          "execution_count": 19
        }
      ]
    },
    {
      "cell_type": "code",
      "execution_count": 20,
      "metadata": {
        "id": "QIWUiZ5ADbEl",
        "outputId": "ad8607b2-5ad1-44cb-9180-a309ac30a248",
        "colab": {
          "base_uri": "https://localhost:8080/"
        }
      },
      "outputs": [
        {
          "output_type": "execute_result",
          "data": {
            "text/plain": [
              "[True, False, False, True, False, True]"
            ]
          },
          "metadata": {},
          "execution_count": 20
        }
      ],
      "source": [
        "#check_words는 단어인지를 확인해주고 결과를 t/f로 반환\n",
        "check_words(word_list)"
      ]
    },
    {
      "cell_type": "markdown",
      "source": [
        "- 대박 신기함..."
      ],
      "metadata": {
        "id": "GqO_cLREhJrD"
      }
    },
    {
      "cell_type": "code",
      "execution_count": 21,
      "metadata": {
        "id": "JXdWxCUEDbEl"
      },
      "outputs": [],
      "source": [
        "train_tf = check_words(train_words)\n",
        "test_tf = check_words(test_words)"
      ]
    },
    {
      "cell_type": "code",
      "execution_count": 22,
      "metadata": {
        "id": "qgpuCIVmDbEm"
      },
      "outputs": [],
      "source": [
        "#단어인지 확인해주는 딕셔너리 만들어주기 (train_isword,test_isword)\n",
        "train_isword = dict()\n",
        "test_isword = dict()\n",
        "\n",
        "total_words = list(train_words)\n",
        "test_words = list(test_words)\n",
        "\n",
        "for i in range(len(train_words)):\n",
        "    train_isword[train_words[i].lower()] = train_tf[i]      \n",
        "    \n",
        "for i in range(len(test_words)):\n",
        "    test_isword[test_words[i].lower()] = test_tf[i]\n",
        "    "
      ]
    },
    {
      "cell_type": "markdown",
      "source": [
        "- train_isword, test_isword에 각각 단어인지 아닌지 t/f를 할당"
      ],
      "metadata": {
        "id": "SUEXP8iZhyrQ"
      }
    },
    {
      "cell_type": "markdown",
      "metadata": {
        "id": "2ss5WLZ5DbEm"
      },
      "source": [
        "### 3. Train, Test 에 각각 적용\n",
        "##### 아래의 nltk 패키지를 이용해 영어가 아닌 단어를 제거하는 방법은 두가지를 소개 하였습니다. 결과는 동일하며 시간 측면에서 아래의 방식이 빠르기 때문에 느린 방법을 주석처리 하였습니다.  (위는 주석 처리)\n",
        "\n",
        "- 모든 문장에 개별적으로 접근하여 영어가 아닌 단어를 제거하는 코드 (60~70 시간소요)\n",
        "- 미리 사용된 단어들을 모아서 딕셔너리를 만들어서 사용한 경우(약 10분)\n",
        "\n",
        "두가지 방법을 모두 소개한 이유는 아래의 방식은 TEST DATA를 모으는 행위인 Data Leakage 문제가 발생할 수 있다는 점 때문입니다. "
      ]
    },
    {
      "cell_type": "markdown",
      "metadata": {
        "id": "Tjc0Qp7PDbEm"
      },
      "source": [
        "#단어를 하나씩 확인하는 방법(60~70 시간 이상 소요)\n",
        "from nltk.corpus import words\n",
        "def check_words(word_list: list):\n",
        "    re = [False] * len(word_list)\n",
        "    for i,word in enumerate(word_list):\n",
        "        word = word.lower()\n",
        "        if len(word)>2:\n",
        "            if word in words.words():\n",
        "                re[i] = True\n",
        "    return re\n",
        "\n",
        "def cutt(data):\n",
        "    data = data.lower() \n",
        "    splited = data.split(\" \")\n",
        "    check = check_words(splited)\n",
        "    c = np.array(splited)\n",
        "    real_words = list(c[check])\n",
        "    tem = \" \".join(real_words)\n",
        "    return tem\n",
        "\n",
        "#valid['cut'] = valid['pre_log'].map(cutt)\n",
        "train['cut']  =train['pre_log'].map(cutt)\n",
        "test['cut']  =test['pre_log'].map(cutt)"
      ]
    },
    {
      "cell_type": "code",
      "execution_count": 23,
      "metadata": {
        "id": "MO_hC9wTDbEn"
      },
      "outputs": [],
      "source": [
        "import copy\n",
        "\n",
        "def checking_train(data):\n",
        "    re = [False] * len(data)\n",
        "    for i,word in enumerate(data):\n",
        "        if train_isword[word]:\n",
        "            re[i] = True\n",
        "    return re\n",
        "\n",
        "\n",
        "def checking_test(data):\n",
        "    re = [False] * len(data)\n",
        "    for i,word in enumerate(data):\n",
        "        if test_isword[word]:\n",
        "            re[i] = True\n",
        "    return re\n",
        "\n",
        "\n",
        "\n",
        "def cutt_train(data):\n",
        "    data = data.lower()\n",
        "    splited = data.split(\" \")\n",
        "    check = checking_train(splited)\n",
        "    c = np.array(splited)\n",
        "    real_words = list(c[check])    \n",
        "    tem = \" \".join(real_words)\n",
        "    #tem = tem.lower() \n",
        "    return tem\n",
        "\n",
        "def cutt_test(data):\n",
        "    data = data.lower()\n",
        "    splited = data.split(\" \")\n",
        "    check = checking_test(splited)\n",
        "    c = np.array(splited)\n",
        "    real_words = list(c[check])  \n",
        "    tem = \" \".join(real_words)\n",
        "    #tem = tem.lower()\n",
        "    return tem"
      ]
    },
    {
      "cell_type": "code",
      "execution_count": 27,
      "metadata": {
        "id": "WDXYkVKNDbEn"
      },
      "outputs": [],
      "source": [
        "train['cut'] = train['pre_log'].map(cutt_train)\n",
        "test['cut'] = test['pre_log'].map(cutt_test)"
      ]
    },
    {
      "cell_type": "code",
      "execution_count": 28,
      "metadata": {
        "id": "OIMDndqQDbEn"
      },
      "outputs": [],
      "source": [
        "del train['full_log']\n",
        "del test['full_log']\n",
        "\n",
        "del train['pre_log']\n",
        "del test['pre_log']\n"
      ]
    },
    {
      "cell_type": "markdown",
      "metadata": {
        "id": "LZrxuZEyDbEn"
      },
      "source": [
        "train.to_csv(\"sub_train3.csv\",index=False)\n",
        "test.to_csv(\"sub_test3.csv\",index=False)\n"
      ]
    },
    {
      "cell_type": "markdown",
      "metadata": {
        "id": "lEknJDaBDbEo"
      },
      "source": [
        "train.to_csv(\"only_train.csv\",index =False)\n",
        "test.to_csv(\"only_test.csv\",index =False)"
      ]
    },
    {
      "cell_type": "markdown",
      "metadata": {
        "id": "a4VshjSMDbEo"
      },
      "source": [
        "### 4. 나중에 사용될 inornot 리스트\n",
        "\n",
        "train 데이터에 100퍼센트 동일한 문장이 있는지 확인해주는 변수 입니다. "
      ]
    },
    {
      "cell_type": "code",
      "execution_count": 29,
      "metadata": {
        "id": "KOAuLYiRDbEo",
        "outputId": "8a08f040-a87e-46a8-fcc6-27684f8755fb",
        "colab": {
          "base_uri": "https://localhost:8080/"
        }
      },
      "outputs": [
        {
          "output_type": "execute_result",
          "data": {
            "text/plain": [
              "6544"
            ]
          },
          "metadata": {},
          "execution_count": 29
        }
      ],
      "source": [
        "train_bag = train['cut'].unique()\n",
        "len(train_bag)"
      ]
    },
    {
      "cell_type": "code",
      "execution_count": 30,
      "metadata": {
        "id": "67qB4rtkDbEp",
        "outputId": "a69ac1c8-fc10-4783-ff0e-82a268c4f171",
        "colab": {
          "base_uri": "https://localhost:8080/"
        }
      },
      "outputs": [
        {
          "output_type": "stream",
          "name": "stderr",
          "text": [
            "100%|██████████| 1418916/1418916 [10:43<00:00, 2206.36it/s]\n"
          ]
        }
      ],
      "source": [
        "#inornot을 통해서 train안에 같은 문장이 있으면 0 없으면 1\n",
        "from tqdm import tqdm\n",
        "inornot = np.zeros(len(test))\n",
        "for i in tqdm(range(len(test))):\n",
        "    tem = test.iloc[i]['cut']\n",
        "    if tem not in train_bag:\n",
        "        inornot[i] = 1"
      ]
    },
    {
      "cell_type": "markdown",
      "metadata": {
        "id": "M7BO-6niDbEp"
      },
      "source": [
        "# 모델"
      ]
    },
    {
      "cell_type": "markdown",
      "metadata": {
        "id": "BVEAI-m5DbEp"
      },
      "source": [
        "train = pd.read_csv(\"sub_train3.csv\")\n",
        "test= pd.read_csv(\"sub_test3.csv\")"
      ]
    },
    {
      "cell_type": "code",
      "execution_count": 31,
      "metadata": {
        "id": "NUjX8YpJDbEq",
        "outputId": "d3959f14-624d-409b-b21a-21b7ccd86706",
        "colab": {
          "base_uri": "https://localhost:8080/",
          "height": 676
        }
      },
      "outputs": [
        {
          "output_type": "execute_result",
          "data": {
            "text/plain": [
              "    id  level                                                cut\n",
              "0    0      0  type error warning collection level error erro...\n",
              "1    1      0  action with response code type unavailable exc...\n",
              "2    2      0  type error warning collection level error erro...\n",
              "3    3      0  type error warning collection level error erro...\n",
              "4    4      1  type audit arch success yes exit gid suid none...\n",
              "5    5      1  type audit arch success yes exit gid suid none...\n",
              "6    6      0  type error warning collection level error erro...\n",
              "7    7      0  warn resurrect connection dead instance but go...\n",
              "8    8      0  type error warning collection level error erro...\n",
              "9    9      0  type log warning message error living share no...\n",
              "10  10      1  type audit arch success yes exit gid suid none...\n",
              "11  11      0  type error warning collection level error erro...\n",
              "12  12      0  warn resurrect connection dead instance but go...\n",
              "13  13      0  type error warning collection level error erro...\n",
              "14  14      0                                        rufus error\n",
              "15  15      1  type audit arch success yes exit gid suid none...\n",
              "16  16      0              start unable open file file read time\n",
              "17  17      0  type error warning collection level error erro...\n",
              "18  18      0  type error warning collection level error erro...\n",
              "19  19      0  type error warning collection level error erro..."
            ],
            "text/html": [
              "\n",
              "  <div id=\"df-ac1e1cea-0c7c-456c-9800-27c3d6e6cbe1\">\n",
              "    <div class=\"colab-df-container\">\n",
              "      <div>\n",
              "<style scoped>\n",
              "    .dataframe tbody tr th:only-of-type {\n",
              "        vertical-align: middle;\n",
              "    }\n",
              "\n",
              "    .dataframe tbody tr th {\n",
              "        vertical-align: top;\n",
              "    }\n",
              "\n",
              "    .dataframe thead th {\n",
              "        text-align: right;\n",
              "    }\n",
              "</style>\n",
              "<table border=\"1\" class=\"dataframe\">\n",
              "  <thead>\n",
              "    <tr style=\"text-align: right;\">\n",
              "      <th></th>\n",
              "      <th>id</th>\n",
              "      <th>level</th>\n",
              "      <th>cut</th>\n",
              "    </tr>\n",
              "  </thead>\n",
              "  <tbody>\n",
              "    <tr>\n",
              "      <th>0</th>\n",
              "      <td>0</td>\n",
              "      <td>0</td>\n",
              "      <td>type error warning collection level error erro...</td>\n",
              "    </tr>\n",
              "    <tr>\n",
              "      <th>1</th>\n",
              "      <td>1</td>\n",
              "      <td>0</td>\n",
              "      <td>action with response code type unavailable exc...</td>\n",
              "    </tr>\n",
              "    <tr>\n",
              "      <th>2</th>\n",
              "      <td>2</td>\n",
              "      <td>0</td>\n",
              "      <td>type error warning collection level error erro...</td>\n",
              "    </tr>\n",
              "    <tr>\n",
              "      <th>3</th>\n",
              "      <td>3</td>\n",
              "      <td>0</td>\n",
              "      <td>type error warning collection level error erro...</td>\n",
              "    </tr>\n",
              "    <tr>\n",
              "      <th>4</th>\n",
              "      <td>4</td>\n",
              "      <td>1</td>\n",
              "      <td>type audit arch success yes exit gid suid none...</td>\n",
              "    </tr>\n",
              "    <tr>\n",
              "      <th>5</th>\n",
              "      <td>5</td>\n",
              "      <td>1</td>\n",
              "      <td>type audit arch success yes exit gid suid none...</td>\n",
              "    </tr>\n",
              "    <tr>\n",
              "      <th>6</th>\n",
              "      <td>6</td>\n",
              "      <td>0</td>\n",
              "      <td>type error warning collection level error erro...</td>\n",
              "    </tr>\n",
              "    <tr>\n",
              "      <th>7</th>\n",
              "      <td>7</td>\n",
              "      <td>0</td>\n",
              "      <td>warn resurrect connection dead instance but go...</td>\n",
              "    </tr>\n",
              "    <tr>\n",
              "      <th>8</th>\n",
              "      <td>8</td>\n",
              "      <td>0</td>\n",
              "      <td>type error warning collection level error erro...</td>\n",
              "    </tr>\n",
              "    <tr>\n",
              "      <th>9</th>\n",
              "      <td>9</td>\n",
              "      <td>0</td>\n",
              "      <td>type log warning message error living share no...</td>\n",
              "    </tr>\n",
              "    <tr>\n",
              "      <th>10</th>\n",
              "      <td>10</td>\n",
              "      <td>1</td>\n",
              "      <td>type audit arch success yes exit gid suid none...</td>\n",
              "    </tr>\n",
              "    <tr>\n",
              "      <th>11</th>\n",
              "      <td>11</td>\n",
              "      <td>0</td>\n",
              "      <td>type error warning collection level error erro...</td>\n",
              "    </tr>\n",
              "    <tr>\n",
              "      <th>12</th>\n",
              "      <td>12</td>\n",
              "      <td>0</td>\n",
              "      <td>warn resurrect connection dead instance but go...</td>\n",
              "    </tr>\n",
              "    <tr>\n",
              "      <th>13</th>\n",
              "      <td>13</td>\n",
              "      <td>0</td>\n",
              "      <td>type error warning collection level error erro...</td>\n",
              "    </tr>\n",
              "    <tr>\n",
              "      <th>14</th>\n",
              "      <td>14</td>\n",
              "      <td>0</td>\n",
              "      <td>rufus error</td>\n",
              "    </tr>\n",
              "    <tr>\n",
              "      <th>15</th>\n",
              "      <td>15</td>\n",
              "      <td>1</td>\n",
              "      <td>type audit arch success yes exit gid suid none...</td>\n",
              "    </tr>\n",
              "    <tr>\n",
              "      <th>16</th>\n",
              "      <td>16</td>\n",
              "      <td>0</td>\n",
              "      <td>start unable open file file read time</td>\n",
              "    </tr>\n",
              "    <tr>\n",
              "      <th>17</th>\n",
              "      <td>17</td>\n",
              "      <td>0</td>\n",
              "      <td>type error warning collection level error erro...</td>\n",
              "    </tr>\n",
              "    <tr>\n",
              "      <th>18</th>\n",
              "      <td>18</td>\n",
              "      <td>0</td>\n",
              "      <td>type error warning collection level error erro...</td>\n",
              "    </tr>\n",
              "    <tr>\n",
              "      <th>19</th>\n",
              "      <td>19</td>\n",
              "      <td>0</td>\n",
              "      <td>type error warning collection level error erro...</td>\n",
              "    </tr>\n",
              "  </tbody>\n",
              "</table>\n",
              "</div>\n",
              "      <button class=\"colab-df-convert\" onclick=\"convertToInteractive('df-ac1e1cea-0c7c-456c-9800-27c3d6e6cbe1')\"\n",
              "              title=\"Convert this dataframe to an interactive table.\"\n",
              "              style=\"display:none;\">\n",
              "        \n",
              "  <svg xmlns=\"http://www.w3.org/2000/svg\" height=\"24px\"viewBox=\"0 0 24 24\"\n",
              "       width=\"24px\">\n",
              "    <path d=\"M0 0h24v24H0V0z\" fill=\"none\"/>\n",
              "    <path d=\"M18.56 5.44l.94 2.06.94-2.06 2.06-.94-2.06-.94-.94-2.06-.94 2.06-2.06.94zm-11 1L8.5 8.5l.94-2.06 2.06-.94-2.06-.94L8.5 2.5l-.94 2.06-2.06.94zm10 10l.94 2.06.94-2.06 2.06-.94-2.06-.94-.94-2.06-.94 2.06-2.06.94z\"/><path d=\"M17.41 7.96l-1.37-1.37c-.4-.4-.92-.59-1.43-.59-.52 0-1.04.2-1.43.59L10.3 9.45l-7.72 7.72c-.78.78-.78 2.05 0 2.83L4 21.41c.39.39.9.59 1.41.59.51 0 1.02-.2 1.41-.59l7.78-7.78 2.81-2.81c.8-.78.8-2.07 0-2.86zM5.41 20L4 18.59l7.72-7.72 1.47 1.35L5.41 20z\"/>\n",
              "  </svg>\n",
              "      </button>\n",
              "      \n",
              "  <style>\n",
              "    .colab-df-container {\n",
              "      display:flex;\n",
              "      flex-wrap:wrap;\n",
              "      gap: 12px;\n",
              "    }\n",
              "\n",
              "    .colab-df-convert {\n",
              "      background-color: #E8F0FE;\n",
              "      border: none;\n",
              "      border-radius: 50%;\n",
              "      cursor: pointer;\n",
              "      display: none;\n",
              "      fill: #1967D2;\n",
              "      height: 32px;\n",
              "      padding: 0 0 0 0;\n",
              "      width: 32px;\n",
              "    }\n",
              "\n",
              "    .colab-df-convert:hover {\n",
              "      background-color: #E2EBFA;\n",
              "      box-shadow: 0px 1px 2px rgba(60, 64, 67, 0.3), 0px 1px 3px 1px rgba(60, 64, 67, 0.15);\n",
              "      fill: #174EA6;\n",
              "    }\n",
              "\n",
              "    [theme=dark] .colab-df-convert {\n",
              "      background-color: #3B4455;\n",
              "      fill: #D2E3FC;\n",
              "    }\n",
              "\n",
              "    [theme=dark] .colab-df-convert:hover {\n",
              "      background-color: #434B5C;\n",
              "      box-shadow: 0px 1px 3px 1px rgba(0, 0, 0, 0.15);\n",
              "      filter: drop-shadow(0px 1px 2px rgba(0, 0, 0, 0.3));\n",
              "      fill: #FFFFFF;\n",
              "    }\n",
              "  </style>\n",
              "\n",
              "      <script>\n",
              "        const buttonEl =\n",
              "          document.querySelector('#df-ac1e1cea-0c7c-456c-9800-27c3d6e6cbe1 button.colab-df-convert');\n",
              "        buttonEl.style.display =\n",
              "          google.colab.kernel.accessAllowed ? 'block' : 'none';\n",
              "\n",
              "        async function convertToInteractive(key) {\n",
              "          const element = document.querySelector('#df-ac1e1cea-0c7c-456c-9800-27c3d6e6cbe1');\n",
              "          const dataTable =\n",
              "            await google.colab.kernel.invokeFunction('convertToInteractive',\n",
              "                                                     [key], {});\n",
              "          if (!dataTable) return;\n",
              "\n",
              "          const docLinkHtml = 'Like what you see? Visit the ' +\n",
              "            '<a target=\"_blank\" href=https://colab.research.google.com/notebooks/data_table.ipynb>data table notebook</a>'\n",
              "            + ' to learn more about interactive tables.';\n",
              "          element.innerHTML = '';\n",
              "          dataTable['output_type'] = 'display_data';\n",
              "          await google.colab.output.renderOutput(dataTable, element);\n",
              "          const docLink = document.createElement('div');\n",
              "          docLink.innerHTML = docLinkHtml;\n",
              "          element.appendChild(docLink);\n",
              "        }\n",
              "      </script>\n",
              "    </div>\n",
              "  </div>\n",
              "  "
            ]
          },
          "metadata": {},
          "execution_count": 31
        }
      ],
      "source": [
        "train.head(20)"
      ]
    },
    {
      "cell_type": "code",
      "execution_count": 32,
      "metadata": {
        "id": "CidfYMFwDbEq",
        "outputId": "b98dbd70-af7d-475f-b3e8-ee378442cd2f",
        "colab": {
          "base_uri": "https://localhost:8080/",
          "height": 423
        }
      },
      "outputs": [
        {
          "output_type": "execute_result",
          "data": {
            "text/plain": [
              "            id  level                                                cut\n",
              "0            0      0  type error warning collection level error erro...\n",
              "1            1      0  action with response code type unavailable exc...\n",
              "2            2      0  type error warning collection level error erro...\n",
              "3            3      0  type error warning collection level error erro...\n",
              "4            4      1  type audit arch success yes exit gid suid none...\n",
              "...        ...    ...                                                ...\n",
              "472967  472967      0                                              error\n",
              "472968  472968      1  type audit arch success yes exit gid suid none...\n",
              "472969  472969      0  type log error task manager message poll for w...\n",
              "472970  472970      0  type error warning collection level error erro...\n",
              "472971  472971      0  type error warning collection level error erro...\n",
              "\n",
              "[472972 rows x 3 columns]"
            ],
            "text/html": [
              "\n",
              "  <div id=\"df-77adfd42-9cca-4590-ba5f-699d8b82ce23\">\n",
              "    <div class=\"colab-df-container\">\n",
              "      <div>\n",
              "<style scoped>\n",
              "    .dataframe tbody tr th:only-of-type {\n",
              "        vertical-align: middle;\n",
              "    }\n",
              "\n",
              "    .dataframe tbody tr th {\n",
              "        vertical-align: top;\n",
              "    }\n",
              "\n",
              "    .dataframe thead th {\n",
              "        text-align: right;\n",
              "    }\n",
              "</style>\n",
              "<table border=\"1\" class=\"dataframe\">\n",
              "  <thead>\n",
              "    <tr style=\"text-align: right;\">\n",
              "      <th></th>\n",
              "      <th>id</th>\n",
              "      <th>level</th>\n",
              "      <th>cut</th>\n",
              "    </tr>\n",
              "  </thead>\n",
              "  <tbody>\n",
              "    <tr>\n",
              "      <th>0</th>\n",
              "      <td>0</td>\n",
              "      <td>0</td>\n",
              "      <td>type error warning collection level error erro...</td>\n",
              "    </tr>\n",
              "    <tr>\n",
              "      <th>1</th>\n",
              "      <td>1</td>\n",
              "      <td>0</td>\n",
              "      <td>action with response code type unavailable exc...</td>\n",
              "    </tr>\n",
              "    <tr>\n",
              "      <th>2</th>\n",
              "      <td>2</td>\n",
              "      <td>0</td>\n",
              "      <td>type error warning collection level error erro...</td>\n",
              "    </tr>\n",
              "    <tr>\n",
              "      <th>3</th>\n",
              "      <td>3</td>\n",
              "      <td>0</td>\n",
              "      <td>type error warning collection level error erro...</td>\n",
              "    </tr>\n",
              "    <tr>\n",
              "      <th>4</th>\n",
              "      <td>4</td>\n",
              "      <td>1</td>\n",
              "      <td>type audit arch success yes exit gid suid none...</td>\n",
              "    </tr>\n",
              "    <tr>\n",
              "      <th>...</th>\n",
              "      <td>...</td>\n",
              "      <td>...</td>\n",
              "      <td>...</td>\n",
              "    </tr>\n",
              "    <tr>\n",
              "      <th>472967</th>\n",
              "      <td>472967</td>\n",
              "      <td>0</td>\n",
              "      <td>error</td>\n",
              "    </tr>\n",
              "    <tr>\n",
              "      <th>472968</th>\n",
              "      <td>472968</td>\n",
              "      <td>1</td>\n",
              "      <td>type audit arch success yes exit gid suid none...</td>\n",
              "    </tr>\n",
              "    <tr>\n",
              "      <th>472969</th>\n",
              "      <td>472969</td>\n",
              "      <td>0</td>\n",
              "      <td>type log error task manager message poll for w...</td>\n",
              "    </tr>\n",
              "    <tr>\n",
              "      <th>472970</th>\n",
              "      <td>472970</td>\n",
              "      <td>0</td>\n",
              "      <td>type error warning collection level error erro...</td>\n",
              "    </tr>\n",
              "    <tr>\n",
              "      <th>472971</th>\n",
              "      <td>472971</td>\n",
              "      <td>0</td>\n",
              "      <td>type error warning collection level error erro...</td>\n",
              "    </tr>\n",
              "  </tbody>\n",
              "</table>\n",
              "<p>472972 rows × 3 columns</p>\n",
              "</div>\n",
              "      <button class=\"colab-df-convert\" onclick=\"convertToInteractive('df-77adfd42-9cca-4590-ba5f-699d8b82ce23')\"\n",
              "              title=\"Convert this dataframe to an interactive table.\"\n",
              "              style=\"display:none;\">\n",
              "        \n",
              "  <svg xmlns=\"http://www.w3.org/2000/svg\" height=\"24px\"viewBox=\"0 0 24 24\"\n",
              "       width=\"24px\">\n",
              "    <path d=\"M0 0h24v24H0V0z\" fill=\"none\"/>\n",
              "    <path d=\"M18.56 5.44l.94 2.06.94-2.06 2.06-.94-2.06-.94-.94-2.06-.94 2.06-2.06.94zm-11 1L8.5 8.5l.94-2.06 2.06-.94-2.06-.94L8.5 2.5l-.94 2.06-2.06.94zm10 10l.94 2.06.94-2.06 2.06-.94-2.06-.94-.94-2.06-.94 2.06-2.06.94z\"/><path d=\"M17.41 7.96l-1.37-1.37c-.4-.4-.92-.59-1.43-.59-.52 0-1.04.2-1.43.59L10.3 9.45l-7.72 7.72c-.78.78-.78 2.05 0 2.83L4 21.41c.39.39.9.59 1.41.59.51 0 1.02-.2 1.41-.59l7.78-7.78 2.81-2.81c.8-.78.8-2.07 0-2.86zM5.41 20L4 18.59l7.72-7.72 1.47 1.35L5.41 20z\"/>\n",
              "  </svg>\n",
              "      </button>\n",
              "      \n",
              "  <style>\n",
              "    .colab-df-container {\n",
              "      display:flex;\n",
              "      flex-wrap:wrap;\n",
              "      gap: 12px;\n",
              "    }\n",
              "\n",
              "    .colab-df-convert {\n",
              "      background-color: #E8F0FE;\n",
              "      border: none;\n",
              "      border-radius: 50%;\n",
              "      cursor: pointer;\n",
              "      display: none;\n",
              "      fill: #1967D2;\n",
              "      height: 32px;\n",
              "      padding: 0 0 0 0;\n",
              "      width: 32px;\n",
              "    }\n",
              "\n",
              "    .colab-df-convert:hover {\n",
              "      background-color: #E2EBFA;\n",
              "      box-shadow: 0px 1px 2px rgba(60, 64, 67, 0.3), 0px 1px 3px 1px rgba(60, 64, 67, 0.15);\n",
              "      fill: #174EA6;\n",
              "    }\n",
              "\n",
              "    [theme=dark] .colab-df-convert {\n",
              "      background-color: #3B4455;\n",
              "      fill: #D2E3FC;\n",
              "    }\n",
              "\n",
              "    [theme=dark] .colab-df-convert:hover {\n",
              "      background-color: #434B5C;\n",
              "      box-shadow: 0px 1px 3px 1px rgba(0, 0, 0, 0.15);\n",
              "      filter: drop-shadow(0px 1px 2px rgba(0, 0, 0, 0.3));\n",
              "      fill: #FFFFFF;\n",
              "    }\n",
              "  </style>\n",
              "\n",
              "      <script>\n",
              "        const buttonEl =\n",
              "          document.querySelector('#df-77adfd42-9cca-4590-ba5f-699d8b82ce23 button.colab-df-convert');\n",
              "        buttonEl.style.display =\n",
              "          google.colab.kernel.accessAllowed ? 'block' : 'none';\n",
              "\n",
              "        async function convertToInteractive(key) {\n",
              "          const element = document.querySelector('#df-77adfd42-9cca-4590-ba5f-699d8b82ce23');\n",
              "          const dataTable =\n",
              "            await google.colab.kernel.invokeFunction('convertToInteractive',\n",
              "                                                     [key], {});\n",
              "          if (!dataTable) return;\n",
              "\n",
              "          const docLinkHtml = 'Like what you see? Visit the ' +\n",
              "            '<a target=\"_blank\" href=https://colab.research.google.com/notebooks/data_table.ipynb>data table notebook</a>'\n",
              "            + ' to learn more about interactive tables.';\n",
              "          element.innerHTML = '';\n",
              "          dataTable['output_type'] = 'display_data';\n",
              "          await google.colab.output.renderOutput(dataTable, element);\n",
              "          const docLink = document.createElement('div');\n",
              "          docLink.innerHTML = docLinkHtml;\n",
              "          element.appendChild(docLink);\n",
              "        }\n",
              "      </script>\n",
              "    </div>\n",
              "  </div>\n",
              "  "
            ]
          },
          "metadata": {},
          "execution_count": 32
        }
      ],
      "source": [
        "from sklearn.feature_extraction.text import CountVectorizer\n",
        "from sklearn.feature_extraction.text import TfidfVectorizer\n",
        "from sklearn.ensemble import RandomForestClassifier\n",
        "\n",
        "#남은 단어가 없는 경우에는 'missing' 으로 대체해주었습니다.\n",
        "train['cut'] = train['cut'].replace('','missing',regex=True)\n",
        "test['cut'] = test['cut'].replace('','missing',regex=True)\n",
        "\n",
        "\n",
        "\n",
        "train = train.fillna(\"missing\")\n",
        "test = test.fillna(\"missing\")\n",
        "\n",
        "train"
      ]
    },
    {
      "cell_type": "code",
      "execution_count": 33,
      "metadata": {
        "id": "XO3PSJqDDbEq"
      },
      "outputs": [],
      "source": [
        "train_text=list(train['cut'])\n",
        "train_level=np.array(train['level'])\n",
        "\n",
        "test_text=list(test['cut'])"
      ]
    },
    {
      "cell_type": "code",
      "execution_count": 34,
      "metadata": {
        "id": "TqLK7zR1DbEq"
      },
      "outputs": [],
      "source": [
        "vectorizer=CountVectorizer(analyzer=\"word\", max_features=20000)\n",
        "train_features=vectorizer.fit_transform(train_text)\n",
        "test_features=vectorizer.transform(test_text)"
      ]
    },
    {
      "cell_type": "code",
      "execution_count": 35,
      "metadata": {
        "id": "-7dhcG2ZDbEr",
        "outputId": "3d95a1f5-f43b-405c-b2bb-152dc152492d",
        "colab": {
          "base_uri": "https://localhost:8080/"
        }
      },
      "outputs": [
        {
          "output_type": "execute_result",
          "data": {
            "text/plain": [
              "RandomForestClassifier(random_state=1)"
            ]
          },
          "metadata": {},
          "execution_count": 35
        }
      ],
      "source": [
        "forest=RandomForestClassifier(n_estimators=100,random_state = 1 )\n",
        "forest.fit(train_features,train_level)"
      ]
    },
    {
      "cell_type": "code",
      "execution_count": 36,
      "metadata": {
        "id": "hGzCZnT5DbEr"
      },
      "outputs": [],
      "source": [
        "results=forest.predict(test_features)\n",
        "results_proba=forest.predict_proba(test_features)"
      ]
    },
    {
      "cell_type": "code",
      "execution_count": 37,
      "metadata": {
        "id": "nr6z1TADDbEr"
      },
      "outputs": [],
      "source": [
        "#Validation을 통한 threshold 조절\n",
        "results[np.where((np.max(results_proba, axis=1)<0.5) & (results == 0))[0]]=7\n",
        "results[np.where((np.max(results_proba, axis=1)<0.5) & (results == 1))[0]]=7\n",
        "results[np.where((np.max(results_proba, axis=1)<0.58) & (results == 2))[0]]=7\n",
        "results[np.where((np.max(results_proba, axis=1)<0.95) & (results == 3))[0]]=7\n",
        "results[np.where((np.max(results_proba, axis=1)<0.58) & (results == 4))[0]]=7\n",
        "results[np.where((np.max(results_proba, axis=1)<0.58) & (results == 5))[0]]=7\n",
        "results[np.where((np.max(results_proba, axis=1)<0.58) & (results == 6))[0]]=7"
      ]
    },
    {
      "cell_type": "code",
      "execution_count": 38,
      "metadata": {
        "id": "zo7MVPHpDbEr"
      },
      "outputs": [],
      "source": [
        "#Validation을 통한 threshold 조절\n",
        "results[np.where((np.max(results_proba, axis=1)<0.94001) & (np.max(results_proba, axis=1) > 0.93999) & (results == 1))[0]]=7 \n",
        "results[np.where((np.max(results_proba, axis=1)<0.611657) & (np.max(results_proba, axis=1) > 0.6116568) & (results == 0))[0]]=7\n",
        "results[np.where((np.max(results_proba, axis=1)<0.571657) & (np.max(results_proba, axis=1) > 0.5716568) & (results == 0))[0]]=7\n",
        "results[np.where((np.max(results_proba, axis=1)<0.68001) & (np.max(results_proba, axis=1) > 0.67999) & (results == 5))[0]]=7 \n"
      ]
    },
    {
      "cell_type": "markdown",
      "metadata": {
        "id": "lqh-o2sEDbEs"
      },
      "source": [
        "# 결과 저장"
      ]
    },
    {
      "cell_type": "code",
      "execution_count": 40,
      "metadata": {
        "id": "NFMJwAsaDbEs",
        "outputId": "1c93c815-2275-4091-85ad-6b08e919edfd",
        "colab": {
          "base_uri": "https://localhost:8080/"
        }
      },
      "outputs": [
        {
          "output_type": "execute_result",
          "data": {
            "text/plain": [
              "0    1002369\n",
              "1     396443\n",
              "3      12813\n",
              "5       6418\n",
              "7        780\n",
              "2         34\n",
              "4         34\n",
              "6         25\n",
              "Name: level, dtype: int64"
            ]
          },
          "metadata": {},
          "execution_count": 40
        }
      ],
      "source": [
        "submission=pd.read_csv('/content/drive/MyDrive/22-여름 스터디/로그 분석을 통한 보안 위험도 예측 AI 경진대회_data/sample_submission.csv')\n",
        "submission['level']=results\n",
        "submission['level'].value_counts()"
      ]
    },
    {
      "cell_type": "code",
      "execution_count": 41,
      "metadata": {
        "id": "6tMiFpJsDbEs"
      },
      "outputs": [],
      "source": [
        "submission.to_csv(\"tem_answer.csv\",index = False)"
      ]
    },
    {
      "cell_type": "markdown",
      "metadata": {
        "id": "pUtct4YfDbEs"
      },
      "source": [
        "# 추가작업\n",
        "TEST 데이터에 동일한 문장이 있는지를 생성했던 컬럼을 추가해주는 작업입니다."
      ]
    },
    {
      "cell_type": "code",
      "execution_count": 42,
      "metadata": {
        "id": "GCjS0g1ADbEt"
      },
      "outputs": [],
      "source": [
        "submission['inornot'] = pd.Series(inornot)"
      ]
    },
    {
      "cell_type": "code",
      "execution_count": 43,
      "metadata": {
        "id": "2MQTMwkEDbEt"
      },
      "outputs": [],
      "source": [
        "cal = submission[(submission['level']==7) & (submission['inornot'] == 0)].index\n",
        "not7_id = list(test.iloc[cal]['id'])\n",
        "pd.Series(not7_id).to_csv(\"not7_id.csv\",index= False)"
      ]
    },
    {
      "cell_type": "markdown",
      "metadata": {
        "id": "6MJi7XXEDbEt"
      },
      "source": [
        "# 추가 작업\n",
        "\n",
        "위의 방식으로 많이 전처리를 하면 7을 걸러내기 위한 threshold 를 잡기는 유리하지만, 지도 학습 자체의 성능은 떨어지는 것을 확인 하였습니다. 따라서, 7를 제외한 나머지 등급에는 전처리가 덜 진행된 Data로 지도학습 분류를 하였습니다. TfidfVectorizer이 더 성능이 우수하여 사용했습니다. "
      ]
    },
    {
      "cell_type": "code",
      "source": [
        "path = '/content/drive/MyDrive/22-여름 스터디/로그 분석을 통한 보안 위험도 예측 AI 경진대회_data/'"
      ],
      "metadata": {
        "id": "_tR6DhrTy7LG"
      },
      "execution_count": 49,
      "outputs": []
    },
    {
      "cell_type": "code",
      "execution_count": 50,
      "metadata": {
        "id": "uEuWwoJFDbEt"
      },
      "outputs": [],
      "source": [
        "train=pd.read_csv(path+'train.csv')\n",
        "test=pd.read_csv(path+'test.csv')"
      ]
    },
    {
      "cell_type": "code",
      "execution_count": 51,
      "metadata": {
        "id": "gRz0sYPbDbEt",
        "colab": {
          "base_uri": "https://localhost:8080/"
        },
        "outputId": "7b5d6d00-f9eb-4eb3-855e-86e1a64d330d"
      },
      "outputs": [
        {
          "output_type": "stream",
          "name": "stderr",
          "text": [
            "/usr/local/lib/python3.7/dist-packages/ipykernel_launcher.py:1: FutureWarning: The default value of regex will change from True to False in a future version.\n",
            "  \"\"\"Entry point for launching an IPython kernel.\n",
            "/usr/local/lib/python3.7/dist-packages/ipykernel_launcher.py:2: FutureWarning: The default value of regex will change from True to False in a future version.\n",
            "  \n"
          ]
        }
      ],
      "source": [
        "train['full_log']=train['full_log'].str.replace(r'[0-9]', '<num>')\n",
        "test['full_log']=test['full_log'].str.replace(r'[0-9]', '<num>')"
      ]
    },
    {
      "cell_type": "code",
      "execution_count": 52,
      "metadata": {
        "id": "YWcvW7HTDbEt"
      },
      "outputs": [],
      "source": [
        "train = train.fillna(\"missing\")\n",
        "test = test.fillna(\"missing\")"
      ]
    },
    {
      "cell_type": "code",
      "execution_count": 53,
      "metadata": {
        "id": "1ugWxzxpDbEt"
      },
      "outputs": [],
      "source": [
        "train_text=list(train['full_log'])\n",
        "train_level=np.array(train['level'])\n",
        "\n",
        "test_text=list(test['full_log'])\n",
        "#ids=list(test['id'])"
      ]
    },
    {
      "cell_type": "code",
      "execution_count": 54,
      "metadata": {
        "id": "lfOropIeDbEu"
      },
      "outputs": [],
      "source": [
        "vectorizer=TfidfVectorizer(analyzer=\"word\", max_features=20000)\n",
        "train_features=vectorizer.fit_transform(train_text)\n",
        "test_features=vectorizer.transform(test_text)"
      ]
    },
    {
      "cell_type": "code",
      "execution_count": 55,
      "metadata": {
        "id": "Z2WxFSYpDbEu",
        "outputId": "b3efefa1-45b9-4430-845b-a311a0edaa25",
        "colab": {
          "base_uri": "https://localhost:8080/"
        }
      },
      "outputs": [
        {
          "output_type": "execute_result",
          "data": {
            "text/plain": [
              "RandomForestClassifier(random_state=1)"
            ]
          },
          "metadata": {},
          "execution_count": 55
        }
      ],
      "source": [
        "forest=RandomForestClassifier(n_estimators=100,random_state = 1 )\n",
        "forest.fit(train_features,train_level)"
      ]
    },
    {
      "cell_type": "code",
      "execution_count": 56,
      "metadata": {
        "id": "toiG5LRzDbEu"
      },
      "outputs": [],
      "source": [
        "results=forest.predict(test_features)\n",
        "results_proba=forest.predict_proba(test_features)"
      ]
    },
    {
      "cell_type": "code",
      "execution_count": 59,
      "metadata": {
        "id": "dJcjXaBnDbEu",
        "outputId": "2ea34d49-d79f-41bd-bae3-921ef1211661",
        "colab": {
          "base_uri": "https://localhost:8080/"
        }
      },
      "outputs": [
        {
          "output_type": "execute_result",
          "data": {
            "text/plain": [
              "0    1002770\n",
              "1     396532\n",
              "3      12997\n",
              "5       6524\n",
              "2         34\n",
              "4         34\n",
              "6         25\n",
              "Name: level, dtype: int64"
            ]
          },
          "metadata": {},
          "execution_count": 59
        }
      ],
      "source": [
        "submission=pd.read_csv(path+'sample_submission.csv')\n",
        "submission['level']=results\n",
        "submission['level'].value_counts()"
      ]
    },
    {
      "cell_type": "code",
      "execution_count": 60,
      "metadata": {
        "id": "TG7JUaT-DbEu"
      },
      "outputs": [],
      "source": [
        "not7_id = pd.read_csv('not7_id.csv')\n",
        "not7_id = list(not7_id['0'])"
      ]
    },
    {
      "cell_type": "code",
      "execution_count": 61,
      "metadata": {
        "id": "GKi2DcNiDbEv",
        "outputId": "2538c448-3d9d-47dd-d555-297a4c731491",
        "colab": {
          "base_uri": "https://localhost:8080/"
        }
      },
      "outputs": [
        {
          "output_type": "stream",
          "name": "stdout",
          "text": [
            "780\n",
            "581\n"
          ]
        },
        {
          "output_type": "execute_result",
          "data": {
            "text/plain": [
              "0    1002512\n",
              "1     396348\n",
              "3      12915\n",
              "5       6467\n",
              "7        581\n",
              "2         34\n",
              "4         34\n",
              "6         25\n",
              "Name: level, dtype: int64"
            ]
          },
          "metadata": {},
          "execution_count": 61
        }
      ],
      "source": [
        "#위에서 잡은 7 합치기 & train에 있는 경우는 사용하지 않기\n",
        "only = pd.read_csv(\"tem_answer.csv\")\n",
        "le7 = list(only[only['level']==7]['id'])\n",
        "le7_update = list((set(le7))-set(not7_id))\n",
        "print(len(le7))\n",
        "print(len(le7_update))\n",
        "idx = submission[submission['id'].isin(le7_update)].index\n",
        "submission.iloc[idx] = 7\n",
        "submission['level'].value_counts()"
      ]
    },
    {
      "cell_type": "code",
      "execution_count": 63,
      "metadata": {
        "id": "EOzKTr0DDbEv",
        "outputId": "5cb84559-9364-43d3-b24a-10a2e86e898b",
        "colab": {
          "base_uri": "https://localhost:8080/"
        }
      },
      "outputs": [
        {
          "output_type": "execute_result",
          "data": {
            "text/plain": [
              "0    1002512\n",
              "1     396348\n",
              "3      12915\n",
              "5       6467\n",
              "7        581\n",
              "2         34\n",
              "4         34\n",
              "6         25\n",
              "Name: level, dtype: int64"
            ]
          },
          "metadata": {},
          "execution_count": 63
        }
      ],
      "source": [
        "who = submission.level\n",
        "submission=pd.read_csv(path+'sample_submission.csv')\n",
        "submission['level'] = who\n",
        "submission['level'].value_counts()"
      ]
    },
    {
      "cell_type": "code",
      "execution_count": 64,
      "metadata": {
        "id": "6y1Vb1kWDbEv"
      },
      "outputs": [],
      "source": [
        "submission.to_csv(\"581_final_answer.csv\",index = False)"
      ]
    },
    {
      "cell_type": "code",
      "execution_count": null,
      "metadata": {
        "id": "eIwFSK-JDbEv"
      },
      "outputs": [],
      "source": [
        ""
      ]
    }
  ],
  "metadata": {
    "kernelspec": {
      "display_name": "Python 3",
      "language": "python",
      "name": "python3"
    },
    "language_info": {
      "codemirror_mode": {
        "name": "ipython",
        "version": 3
      },
      "file_extension": ".py",
      "mimetype": "text/x-python",
      "name": "python",
      "nbconvert_exporter": "python",
      "pygments_lexer": "ipython3",
      "version": "3.8.5"
    },
    "colab": {
      "name": "이상치탐지_DACON_보안 위험도 예측 AI_1위",
      "provenance": [],
      "collapsed_sections": [
        "2ss5WLZ5DbEm",
        "Tjc0Qp7PDbEm",
        "a4VshjSMDbEo",
        "M7BO-6niDbEp",
        "lqh-o2sEDbEs",
        "pUtct4YfDbEs",
        "6MJi7XXEDbEt"
      ],
      "include_colab_link": true
    },
    "accelerator": "GPU",
    "gpuClass": "standard"
  },
  "nbformat": 4,
  "nbformat_minor": 0
}